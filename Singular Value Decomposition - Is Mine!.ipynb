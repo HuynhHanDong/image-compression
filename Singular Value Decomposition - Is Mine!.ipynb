{
 "cells": [
  {
   "cell_type": "code",
   "execution_count": null,
   "metadata": {},
   "outputs": [],
   "source": [
    "import os\n",
    "import glob\n",
    "import shutil"
   ]
  },
  {
   "cell_type": "code",
   "execution_count": null,
   "metadata": {},
   "outputs": [],
   "source": [
    "class Directories:\n",
    "    def __init__(self):\n",
    "        Folder_Name = [\"Images_Folder\",\"Result_Folder\"]\n",
    "        for i in range(len(Folder_Name)):\n",
    "            if os.path.exists(Folder_Name[i]):\n",
    "                pass\n",
    "            else:\n",
    "                os.mkdir(Folder_Name[i])\n",
    "        self.Store_Path(os.getcwd(), os.path.join(os.getcwd(),\"Images_Folder\"), os.path.join(os.getcwd(),\"Result_Folder\"))                \n",
    "        self.Convert_to_PNG()\n",
    "        \n",
    "    def Store_Path(self, Main_Folder, Path_Images_Folder, Path_Result_Folder):\n",
    "        self.Main_Folder = Main_Folder\n",
    "        self.Images_Folder = Path_Images_Folder\n",
    "        self.Result_Folder = Path_Result_Folder\n",
    "   \n",
    "    def Convert_to_PNG(self):\n",
    "        Image_list = [\"*.png\", \"*.jpeg\",\"*.jpg\"]        \n",
    "        for i in range(len(Image_list)):\n",
    "            Image_File_Raster = glob.glob(Image_list[i])            \n",
    "            for n in range(len(Image_File_Raster)):\n",
    "                if \".png\" in Image_File_Raster[n]:\n",
    "                    shutil.move(Image_File_Raster[n], \"Images_Folder\")\n",
    "                else:\n",
    "                    Image_name = Image_File_Raster[n][::-1].split(\".\",1)\n",
    "                    Renamed = Image_name[1][::-1]+\".png\"\n",
    "                    os.rename(Image_File_Raster[n],Image_name[1][::-1]+\".png\")\n",
    "                    shutil.move(Renamed, \"Images_Folder\")                      \n",
    "Path = Directories()"
   ]
  }
 ],
 "metadata": {
  "language_info": {
   "name": "python"
  }
 },
 "nbformat": 4,
 "nbformat_minor": 2
}
