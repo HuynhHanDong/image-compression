{
 "cells": [
  {
   "cell_type": "code",
   "execution_count": 2,
   "metadata": {},
   "outputs": [],
   "source": [
    "import os\n",
    "import numpy\n",
    "import cv2"
   ]
  },
  {
   "cell_type": "code",
   "execution_count": 3,
   "metadata": {},
   "outputs": [],
   "source": [
    "Root = os.getcwd()\n",
    "os.makedirs('Images_Folder', exist_ok=True)\n",
    "os.makedirs('Result_Folder', exist_ok=True)"
   ]
  },
  {
   "cell_type": "code",
   "execution_count": 4,
   "metadata": {},
   "outputs": [],
   "source": [
    "def Convert_to_PNG():\n",
    "    for Image_File in os.listdir(\"Images_Folder\"):\n",
    "        if not Image_File.endswith(\".png\"):\n",
    "            New_Image_File = os.path.splitext(Image_File)[0] + \".png\"\n",
    "            os.rename(\n",
    "                os.path.join(\"Images_Folder\", Image_File),\n",
    "                os.path.join(\"Images_Folder\", New_Image_File),\n",
    "            )\n",
    "Convert_to_PNG()"
   ]
  },
  {
   "cell_type": "code",
   "execution_count": 5,
   "metadata": {},
   "outputs": [],
   "source": [
    "def Convert_Image_To_Matrix(Image_Name):\n",
    "    if Image_Name in os.listdir('Images_Folder'):\n",
    "        print(\"Found the picture:\", Image_Name)\n",
    "        Image = cv2.imread(os.path.join('Images_Folder', Image_Name))\n",
    "        Gray_Image = numpy.zeros((Image.shape[0], Image.shape[1]))\n",
    "        for Row in range(Image.shape[0]):\n",
    "            for Col in range(Image.shape[1]):\n",
    "                Pixel = Image[Row, Col]\n",
    "                Gray_Pixel = Pixel[0] * 0.114 + Pixel[1] * 0.587 + Pixel[2] * 0.299\n",
    "                Normalization = Gray_Pixel / 255\n",
    "                Gray_Image[Row, Col] = Normalization\n",
    "        return Gray_Image\n",
    "    else: print(\"Picture not found!!!!\")"
   ]
  },
  {
   "cell_type": "code",
   "execution_count": 6,
   "metadata": {},
   "outputs": [],
   "source": [
    "def Create_Zero_Matrix(Values):\n",
    "    Zero_Matrix = numpy.zeros((Values.shape[0], Values.shape[1]))\n",
    "    return Zero_Matrix\n",
    "\n",
    "def Create_Identity_Matrix(Matrix):\n",
    "    Identity_Matrix = Create_Zero_Matrix(Matrix)\n",
    "    for Row_Column in range(Identity_Matrix.shape[1]):\n",
    "        Identity_Matrix[Row_Column,Row_Column] = 1\n",
    "    return Identity_Matrix"
   ]
  },
  {
   "cell_type": "code",
   "execution_count": null,
   "metadata": {},
   "outputs": [],
   "source": []
  },
  {
   "cell_type": "code",
   "execution_count": null,
   "metadata": {},
   "outputs": [],
   "source": [
    "class Calculation:\n",
    "    def __init__(self, Image_Name, Matrix_Approximation):\n",
    "        self.Matrix = Convert_Image_To_Matrix(Image_Name)\n",
    "        self.K = Matrix_Approximation\n",
    "        self.Shape = numpy.shape(self.matrix)\n",
    "        \n",
    "    def Singular_Value_Decomposition(self):\n",
    "        Col, Row = self.Shape\n",
    "        A = self.matrix\n"
   ]
  }
 ],
 "metadata": {
  "kernelspec": {
   "display_name": "python3",
   "language": "python",
   "name": "python3"
  },
  "language_info": {
   "codemirror_mode": {
    "name": "ipython",
    "version": 3
   },
   "file_extension": ".py",
   "mimetype": "text/x-python",
   "name": "python",
   "nbconvert_exporter": "python",
   "pygments_lexer": "ipython3",
   "version": "3.10.14"
  }
 },
 "nbformat": 4,
 "nbformat_minor": 2
}
