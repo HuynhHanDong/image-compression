{
 "cells": [
  {
   "cell_type": "code",
   "execution_count": 2,
   "metadata": {},
   "outputs": [],
   "source": [
    "import os, glob\n",
    "import cv2\n",
    "import numpy as np\n",
    "import sympy\n",
    "from sympy import symbols"
   ]
  },
  {
   "cell_type": "code",
   "execution_count": 3,
   "metadata": {},
   "outputs": [],
   "source": [
    "Root = os.getcwd()\n",
    "os.makedirs('Images_Folder', exist_ok=True)\n",
    "os.makedirs('Result_Folder', exist_ok=True)"
   ]
  },
  {
   "cell_type": "code",
   "execution_count": 4,
   "metadata": {},
   "outputs": [],
   "source": [
    "def Convert_to_PNG():\n",
    "    os.chdir(os.path.join(Root,'Images_Folder'))\n",
    "    image_patterns = [\"*.jpeg\", \"*.jpg\"]\n",
    "    for pattern in image_patterns:\n",
    "        for image_file in glob.glob(pattern):\n",
    "            if not image_file.endswith(\".png\"):\n",
    "                new_file = os.path.splitext(image_file)[0] + \".png\"\n",
    "                os.rename(image_file, new_file)\n",
    "    os.chdir(Root)"
   ]
  },
  {
   "cell_type": "code",
   "execution_count": 5,
   "metadata": {},
   "outputs": [],
   "source": [
    "def Convert_Image_To_Matrix(Image_Name):\n",
    "    if Image_Name in os.listdir('Images_Folder'):\n",
    "        Image = cv2.imread(os.path.join('Images_Folder', Image_Name))\n",
    "        Gray_Image = cv2.cvtColor(Image, cv2.COLOR_BGR2GRAY)\n",
    "        Data = np.array(Gray_Image)/255 # Chuẩn hóa dữ liệu\n",
    "        return Data\n",
    "    else: print(\"Picture not found!!!!\")"
   ]
  },
  {
   "cell_type": "code",
   "execution_count": 6,
   "metadata": {},
   "outputs": [],
   "source": [
    "def Create_Zero_Matrix(Values):\n",
    "    Zero_Matrix = np.zeros((Values.shape[0], Values.shape[1]))\n",
    "    return Zero_Matrix\n",
    "\n",
    "def Create_Identity_Matrix(Matrix):\n",
    "    Identity_Matrix = Create_Zero_Matrix(Matrix)\n",
    "    for Row_Column in range(Identity_Matrix.shape[1]):\n",
    "        Identity_Matrix[Row_Column,Row_Column] = 1\n",
    "    return Identity_Matrix"
   ]
  },
  {
   "cell_type": "code",
   "execution_count": null,
   "metadata": {},
   "outputs": [],
   "source": []
  },
  {
   "cell_type": "code",
   "execution_count": 29,
   "metadata": {},
   "outputs": [],
   "source": [
    "\n"
   ]
  },
  {
   "cell_type": "code",
   "execution_count": null,
   "metadata": {},
   "outputs": [],
   "source": []
  },
  {
   "cell_type": "code",
   "execution_count": null,
   "metadata": {},
   "outputs": [],
   "source": [
    "\n"
   ]
  },
  {
   "cell_type": "code",
   "execution_count": null,
   "metadata": {},
   "outputs": [],
   "source": []
  },
  {
   "cell_type": "code",
   "execution_count": null,
   "metadata": {},
   "outputs": [],
   "source": [
    "class Calculation:\n",
    "    def __init__(self, Name, Matrix_Approximation):\n",
    "        self.Matrix = Convert_Image_To_Matrix(Name)\n",
    "        self.k = Matrix_Approximation\n",
    "        \n",
    "if __name__ == '__main__':\n",
    "    Calculation('Cute Cat.png', 5)"
   ]
  }
 ],
 "metadata": {
  "kernelspec": {
   "display_name": "python3",
   "language": "python",
   "name": "python3"
  },
  "language_info": {
   "codemirror_mode": {
    "name": "ipython",
    "version": 3
   },
   "file_extension": ".py",
   "mimetype": "text/x-python",
   "name": "python",
   "nbconvert_exporter": "python",
   "pygments_lexer": "ipython3",
   "version": "3.10.14"
  }
 },
 "nbformat": 4,
 "nbformat_minor": 2
}
