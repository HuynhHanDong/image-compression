{
 "cells": [
  {
   "cell_type": "code",
   "execution_count": 1,
   "metadata": {},
   "outputs": [],
   "source": [
    "import os\n",
    "import numpy as np\n",
    "import cv2\n",
    "from PIL import Image"
   ]
  },
  {
   "cell_type": "code",
   "execution_count": 2,
   "metadata": {},
   "outputs": [],
   "source": [
    "Root = os.getcwd()\n",
    "os.makedirs('Images_Folder', exist_ok=True)\n",
    "os.makedirs('Result_Folder', exist_ok=True)"
   ]
  },
  {
   "cell_type": "code",
   "execution_count": 14,
   "metadata": {},
   "outputs": [
    {
     "name": "stdout",
     "output_type": "stream",
     "text": [
      "Found the picture: Cute Cat.png\n"
     ]
    }
   ],
   "source": [
    "class SVD_Image_Compression_Proccessing:\n",
    "    def __init__(self, Image_Name, Matrix_Approximation):\n",
    "        self.Original_Matrix = self.Convert_Image_To_Matrix(Image_Name)\n",
    "        self.K = Matrix_Approximation\n",
    "        if self.Original_Matrix is not False:\n",
    "            self.Shape = np.shape(self.Original_Matrix)\n",
    "            Result = self.Singular_Value_Decomposition()\n",
    "            self.Show_Image(Result)\n",
    "        else:\n",
    "            print(f\"Picture not found!!!!\")\n",
    "\n",
    "\n",
    "    def Convert_to_PNG(self):\n",
    "        for Image_File in os.listdir(\"Images_Folder\"):\n",
    "            if not Image_File.endswith(\".png\"):\n",
    "                New_Image_File = os.path.splitext(Image_File)[0] + \".png\"\n",
    "                os.rename(\n",
    "                    os.path.join(\"Images_Folder\", Image_File),\n",
    "                    os.path.join(\"Images_Folder\", New_Image_File),\n",
    "                )\n",
    "\n",
    "    def Convert_Image_To_Matrix(self, Image_Name):\n",
    "        self.Convert_to_PNG() \n",
    "        if Image_Name in os.listdir('Images_Folder'):\n",
    "            print(\"Found the picture:\", Image_Name)\n",
    "            Image = cv2.imread(os.path.join('Images_Folder', Image_Name))\n",
    "            Gray_Image = np.zeros((Image.shape[0], Image.shape[1]))\n",
    "            for Row in range(Image.shape[0]):\n",
    "                for Col in range(Image.shape[1]):\n",
    "                    Pixel = Image[Row, Col]\n",
    "                    Gray_Pixel = Pixel[0] * 0.114 + Pixel[1] * 0.587 + Pixel[2] * 0.299\n",
    "                    Normalization = Gray_Pixel / 255\n",
    "                    Gray_Image[Row, Col] = Normalization\n",
    "            return Gray_Image\n",
    "        else:\n",
    "            return False\n",
    "    \n",
    "    def Find_Eigenvalues_and_Eigenvectors(self, Matrix):\n",
    "        Eigenvalues, Eigenvectors = np.linalg.eig(Matrix)\n",
    "        return Eigenvalues, Eigenvectors\n",
    "\n",
    "    def Sigma_Matrix(self, Matrix):\n",
    "        Singular_Values = np.sqrt(np.abs(self.Find_Eigenvalues_and_Eigenvectors(Matrix)[0]))\n",
    "        Sigma_Matrix = np.zeros(self.Shape, dtype='float_')\n",
    "        for i in range(min(len(Singular_Values), self.Shape[0], self.Shape[1])):\n",
    "            Sigma_Matrix[i, i] = Singular_Values[i]\n",
    "        return Sigma_Matrix\n",
    "    \n",
    "    def Singular_Value_Decomposition(self):\n",
    "        A = self.Original_Matrix\n",
    "        AtA = np.matmul(A.T, A)\n",
    "        U = np.zeros((self.Shape[0], self.K), dtype='float_')\n",
    "        D = self.Sigma_Matrix(AtA)\n",
    "        V = self.Find_Eigenvalues_and_Eigenvectors(AtA)[1]\n",
    "        \n",
    "        for i in range(self.K):\n",
    "            U[:, i] = np.matmul(A, V[:, i]) / D[i, i]\n",
    "        Result = np.matmul(U[:, :self.K], D[:self.K, :self.K]) @ V[:, :self.K].T\n",
    "        \n",
    "        return Result\n",
    "\n",
    "    def Show_Image(self, Result):\n",
    "        Img_Array = np.clip(Result * 255, 0, 255).astype(np.uint8)\n",
    "        if not os.path.exists('Result_Folder'):\n",
    "            os.makedirs('Result_Folder')\n",
    "        Filename = f\"{self.K}_SVD_Image_Compression.jpg\"\n",
    "        cv2.imwrite(os.path.join('Result_Folder', Filename), Img_Array)\n",
    "\n",
    "        Img = Image.fromarray(Img_Array)\n",
    "        Img.show()\n",
    "\n",
    "if __name__ == '__main__':\n",
    "    SVD_Image_Compression_Proccessing('Cute Cat.png', 10)\n"
   ]
  },
  {
   "cell_type": "code",
   "execution_count": null,
   "metadata": {},
   "outputs": [],
   "source": []
  }
 ],
 "metadata": {
  "kernelspec": {
   "display_name": "python3",
   "language": "python",
   "name": "python3"
  },
  "language_info": {
   "codemirror_mode": {
    "name": "ipython",
    "version": 3
   },
   "file_extension": ".py",
   "mimetype": "text/x-python",
   "name": "python",
   "nbconvert_exporter": "python",
   "pygments_lexer": "ipython3",
   "version": "3.10.14"
  }
 },
 "nbformat": 4,
 "nbformat_minor": 2
}
