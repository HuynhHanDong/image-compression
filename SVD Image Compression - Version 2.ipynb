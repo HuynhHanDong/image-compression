{
 "cells": [
  {
   "cell_type": "code",
   "execution_count": 1,
   "metadata": {},
   "outputs": [],
   "source": [
    "import os, glob\n",
    "import cv2\n",
    "import numpy as np\n",
    "import matplotlib.pyplot as plt"
   ]
  },
  {
   "cell_type": "code",
   "execution_count": 2,
   "metadata": {},
   "outputs": [],
   "source": [
    "Root = os.getcwd()\n",
    "os.makedirs('Images_Folder', exist_ok=True)\n",
    "os.makedirs('Result_Folder', exist_ok=True)"
   ]
  },
  {
   "cell_type": "code",
   "execution_count": 3,
   "metadata": {},
   "outputs": [],
   "source": [
    "def Convert_to_PNG():\n",
    "    os.chdir(os.path.join(Root,'Images_Folder'))\n",
    "    image_patterns = [\"*.jpeg\", \"*.jpg\"]\n",
    "    for pattern in image_patterns:\n",
    "        for image_file in glob.glob(pattern):\n",
    "            if not image_file.endswith(\".png\"):\n",
    "                new_file = os.path.splitext(image_file)[0] + \".png\"\n",
    "                os.rename(image_file, new_file)\n",
    "    os.chdir(Root)"
   ]
  },
  {
   "cell_type": "code",
   "execution_count": 4,
   "metadata": {},
   "outputs": [],
   "source": [
    "def Image_Show(Image):\n",
    "    plt.imshow(Image, cmap='gray')\n",
    "    plt.axis('off')\n",
    "    plt.show() "
   ]
  },
  {
   "cell_type": "code",
   "execution_count": 6,
   "metadata": {},
   "outputs": [
    {
     "name": "stdout",
     "output_type": "stream",
     "text": [
      "Kích thước ảnh gốc: (708, 720, 3)\n",
      "[[116.964 116.964 116.964 ... 154.186 163.588 170.588]\n",
      " [116.964 116.964 116.964 ... 158.186 168.588 176.588]\n",
      " [116.964 116.964 116.964 ... 163.186 173.588 180.588]\n",
      " ...\n",
      " [128.861 128.861 128.861 ... 111.858 111.858 111.858]\n",
      " [128.861 128.861 128.861 ... 111.858 111.858 111.858]\n",
      " [128.861 128.861 128.861 ... 111.858 111.858 111.858]]\n"
     ]
    }
   ],
   "source": [
    "Image = cv2.imread(os.path.join('Images_Folder','Meme.png'))\n",
    "\n",
    "print(\"Kích thước ảnh gốc:\", Image.shape)\n",
    "\n",
    "Gray_Image = np.zeros((Image.shape[0], Image.shape[1])) # Tạo ma trận 0 bằng kích thước với ma trận xuất ra từ hình ảnh\n",
    "\n",
    "for Row in range(Image.shape[0]): # chạy qua các hàng\n",
    "    for Col in range(Image.shape[1]): # chạy qua các cột\n",
    "        Pixel = Image[Row, Col]  # Lấy các giá trị Pixel của định dạng BRG\n",
    "        Gray_Pixel = Pixel[0] * 0.114 + Pixel[1] * 0.587 + Pixel[2] * 0.299 # Chuyển sang Pixel của ảnh định dạng Gray\n",
    "        Gray_Image[Row, Col] = Gray_Pixel # Thêm các giá trị vào ảnh Gray     "
   ]
  },
  {
   "cell_type": "code",
   "execution_count": 8,
   "metadata": {},
   "outputs": [
    {
     "name": "stdout",
     "output_type": "stream",
     "text": [
      "[116.964 116.964 116.964]\n",
      "[116.964 116.964 116.964]\n",
      "[116.964 116.964 116.964]\n"
     ]
    }
   ],
   "source": [
    "Gray_Image_3x3 = Gray_Image[0:3, 0:3]\n",
    "for row in Gray_Image_3x3:\n",
    "    print(row)"
   ]
  }
 ],
 "metadata": {
  "kernelspec": {
   "display_name": "python3",
   "language": "python",
   "name": "python3"
  },
  "language_info": {
   "codemirror_mode": {
    "name": "ipython",
    "version": 3
   },
   "file_extension": ".py",
   "mimetype": "text/x-python",
   "name": "python",
   "nbconvert_exporter": "python",
   "pygments_lexer": "ipython3",
   "version": "3.10.14"
  }
 },
 "nbformat": 4,
 "nbformat_minor": 2
}
