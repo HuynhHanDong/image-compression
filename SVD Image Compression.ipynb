{
 "cells": [
  {
   "cell_type": "code",
   "execution_count": 9,
   "metadata": {},
   "outputs": [],
   "source": [
    "import os, glob\n",
    "import cv2\n",
    "import numpy as np\n",
    "import matplotlib.pyplot as plt"
   ]
  },
  {
   "cell_type": "code",
   "execution_count": 14,
   "metadata": {},
   "outputs": [],
   "source": [
    "Root = os.getcwd()\n",
    "os.makedirs('Images_Folder', exist_ok=True)\n",
    "os.makedirs('Result_Folder', exist_ok=True)"
   ]
  },
  {
   "cell_type": "code",
   "execution_count": 15,
   "metadata": {},
   "outputs": [],
   "source": [
    "def Convert_to_PNG():\n",
    "    os.chdir(os.path.join(Root,'Images_Folder'))\n",
    "    image_patterns = [\"*.jpeg\", \"*.jpg\"]\n",
    "    for pattern in image_patterns:\n",
    "        for image_file in glob.glob(pattern):\n",
    "            if not image_file.endswith(\".png\"):\n",
    "                new_file = os.path.splitext(image_file)[0] + \".png\"\n",
    "                os.rename(image_file, new_file)\n",
    "    os.chdir(Root)"
   ]
  },
  {
   "cell_type": "code",
   "execution_count": 16,
   "metadata": {},
   "outputs": [],
   "source": [
    "def Image_Show(Image):\n",
    "    plt.imshow(Image, cmap='gray')\n",
    "    plt.axis('off')\n",
    "    plt.show() "
   ]
  },
  {
   "cell_type": "code",
   "execution_count": 17,
   "metadata": {},
   "outputs": [],
   "source": [
    "def Convert_Image_To_Matrix(Image_Name):\n",
    "    if Image_Name in os.listdir('Images_Folder'):\n",
    "        Image = cv2.imread(os.path.join('Images_Folder', Image_Name))\n",
    "        Gray_Image = cv2.cvtColor(Image, cv2.COLOR_BGR2GRAY)\n",
    "        Data = np.array(Gray_Image)/255 # Chuẩn hóa dữ liệu\n",
    "        Image_Show(Gray_Image)\n",
    "        return Data\n",
    "    else: print(\"Picture not found!!!!\")"
   ]
  },
  {
   "cell_type": "code",
   "execution_count": null,
   "metadata": {},
   "outputs": [],
   "source": []
  }
 ],
 "metadata": {
  "kernelspec": {
   "display_name": "python3",
   "language": "python",
   "name": "python3"
  },
  "language_info": {
   "codemirror_mode": {
    "name": "ipython",
    "version": 3
   },
   "file_extension": ".py",
   "mimetype": "text/x-python",
   "name": "python",
   "nbconvert_exporter": "python",
   "pygments_lexer": "ipython3",
   "version": "3.10.14"
  }
 },
 "nbformat": 4,
 "nbformat_minor": 2
}
