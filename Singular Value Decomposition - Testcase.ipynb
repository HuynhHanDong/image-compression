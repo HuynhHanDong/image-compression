{
 "cells": [
  {
   "cell_type": "code",
   "execution_count": 2,
   "metadata": {},
   "outputs": [],
   "source": [
    "import os\n",
    "import glob\n",
    "import shutil\n",
    "import cv2\n",
    "import sympy\n",
    "import numpy as np\n",
    "from PIL import Image\n",
    "from sympy import symbols\n",
    "from sympy.matrices import *\n",
    "import matplotlib.pyplot as plt\n",
    "import matplotlib.image as mpimg"
   ]
  },
  {
   "cell_type": "code",
   "execution_count": 2,
   "metadata": {},
   "outputs": [],
   "source": [
    "class Directories:\n",
    "    def __init__(self):\n",
    "        Folder_Name = [\"Images_Folder\",\"Result_Folder\"]\n",
    "        for i in range(len(Folder_Name)):\n",
    "            if os.path.exists(Folder_Name[i]):\n",
    "                pass\n",
    "            else:\n",
    "                os.mkdir(Folder_Name[i])\n",
    "        self.Store_Path(os.getcwd(), os.path.join(os.getcwd(),\"Images_Folder\"), os.path.join(os.getcwd(),\"Result_Folder\"))                \n",
    "        self.Convert_to_PNG()\n",
    "        \n",
    "    def Store_Path(self, Main_Folder, Path_Images_Folder, Path_Result_Folder):\n",
    "        self.Main_Folder = Main_Folder\n",
    "        self.Images_Folder = Path_Images_Folder\n",
    "        self.Result_Folder = Path_Result_Folder\n",
    "   \n",
    "    def Convert_to_PNG(self):\n",
    "        Image_list = [\"*.png\", \"*.jpeg\",\"*.jpg\"]        \n",
    "        for i in range(len(Image_list)):\n",
    "            Image_File_Raster = glob.glob(Image_list[i])            \n",
    "            for n in range(len(Image_File_Raster)):\n",
    "                if \".png\" in Image_File_Raster[n]:\n",
    "                    shutil.move(Image_File_Raster[n], \"Images_Folder\")\n",
    "                else:\n",
    "                    Image_name = Image_File_Raster[n][::-1].split(\".\",1)\n",
    "                    Renamed = Image_name[1][::-1]+\".png\"\n",
    "                    os.rename(Image_File_Raster[n],Image_name[1][::-1]+\".png\")\n",
    "                    shutil.move(Renamed, \"Images_Folder\")                      \n",
    "Path = Directories()"
   ]
  },
  {
   "cell_type": "code",
   "execution_count": 15,
   "metadata": {},
   "outputs": [],
   "source": [
    "def Convert_Image_To_Matrix():\n",
    "  os.chdir(Path.Images_Folder)\n",
    "  picture_name = \"sample.png\"\n",
    "  # if picture_name in os.listdir():\n",
    "  #   print(\"Found the picture:\", picture_name)\n",
    "  #   img = cv2.imread(picture_name)\n",
    "  #   gray_img = cv2.cvtColor(img, cv2.COLOR_BGR2GRAY)\n",
    "  #   data = np.array(gray_img)/255\n",
    "  #   return data\n",
    "  # else:\n",
    "  #   print(\"Picture not found.\")          "
   ]
  },
  {
   "cell_type": "code",
   "execution_count": 4,
   "metadata": {},
   "outputs": [
    {
     "data": {
      "text/plain": [
       "'c:\\\\Users\\\\QuySech\\\\OneDrive\\\\Project\\\\Singular value decomposition\\\\Singular-value-decomposition'"
      ]
     },
     "execution_count": 4,
     "metadata": {},
     "output_type": "execute_result"
    }
   ],
   "source": [
    "os.chdir('c:\\\\Users\\\\QuySech\\\\OneDrive\\\\Project\\\\Singular value decomposition\\\\Singular-value-decomposition')\n",
    "os.getcwd()"
   ]
  },
  {
   "cell_type": "code",
   "execution_count": 3,
   "metadata": {},
   "outputs": [
    {
     "name": "stdout",
     "output_type": "stream",
     "text": [
      "[[[ 43  17  12]\n",
      "  [ 43  17  12]\n",
      "  [ 43  17  12]\n",
      "  ...\n",
      "  [ 47  23  19]\n",
      "  [ 47  22  19]\n",
      "  [ 47  22  19]]\n",
      "\n",
      " [[ 42  16  12]\n",
      "  [ 42  16  11]\n",
      "  [ 42  16  11]\n",
      "  ...\n",
      "  [ 47  23  19]\n",
      "  [ 47  22  19]\n",
      "  [ 47  23  19]]\n",
      "\n",
      " [[ 42  16  11]\n",
      "  [ 41  16  11]\n",
      "  [ 41  16  11]\n",
      "  ...\n",
      "  [ 48  23  20]\n",
      "  [ 48  23  20]\n",
      "  [ 48  23  20]]\n",
      "\n",
      " ...\n",
      "\n",
      " [[206 174 154]\n",
      "  [208 173 155]\n",
      "  [208 173 155]\n",
      "  ...\n",
      "  [227 178 156]\n",
      "  [227 177 155]\n",
      "  [227 177 155]]\n",
      "\n",
      " [[209 176 157]\n",
      "  [209 176 157]\n",
      "  [209 176 157]\n",
      "  ...\n",
      "  [227 178 157]\n",
      "  [227 178 157]\n",
      "  [227 178 157]]\n",
      "\n",
      " [[208 177 158]\n",
      "  [208 177 158]\n",
      "  [208 177 159]\n",
      "  ...\n",
      "  [226 179 159]\n",
      "  [226 179 158]\n",
      "  [226 180 159]]]\n"
     ]
    }
   ],
   "source": [
    "Image = cv2.imread(\"c:\\\\Users\\\\QuySech\\\\OneDrive\\\\Project\\\\Singular value decomposition\\\\Singular-Value-Decomposition\\\\Images_Folder\\Screenshot 2024-09-10 162706.png\")\n",
    "Image1 = np.array(Image)\n",
    "print(Image1)"
   ]
  },
  {
   "cell_type": "code",
   "execution_count": 4,
   "metadata": {},
   "outputs": [
    {
     "name": "stdout",
     "output_type": "stream",
     "text": [
      "[[0.09411765 0.09411765 0.09411765 ... 0.11764706 0.11372549 0.11372549]\n",
      " [0.09019608 0.09019608 0.09019608 ... 0.11764706 0.11372549 0.11764706]\n",
      " [0.09019608 0.09019608 0.09019608 ... 0.11764706 0.11764706 0.11764706]\n",
      " ...\n",
      " [0.70980392 0.70980392 0.70980392 ... 0.74509804 0.74117647 0.74117647]\n",
      " [0.72156863 0.72156863 0.72156863 ... 0.74509804 0.74509804 0.74509804]\n",
      " [0.72156863 0.72156863 0.72156863 ... 0.74901961 0.74901961 0.74901961]]\n"
     ]
    }
   ],
   "source": [
    "Image = cv2.imread(\"c:\\\\Users\\\\QuySech\\\\OneDrive\\\\Project\\\\Singular value decomposition\\\\Singular-Value-Decomposition\\\\Images_Folder\\Screenshot 2024-09-10 162706.png\")\n",
    "Gray_Image = cv2.cvtColor(Image, cv2.COLOR_RGB2GRAY)\n",
    "Data = np.array(Gray_Image)/255\n",
    "print(Data)\n",
    "\n",
    "# plt.imshow(img, cmap='gray')\n",
    "# plt.imshow(img)"
   ]
  },
  {
   "cell_type": "code",
   "execution_count": null,
   "metadata": {},
   "outputs": [],
   "source": []
  },
  {
   "cell_type": "code",
   "execution_count": null,
   "metadata": {},
   "outputs": [],
   "source": []
  },
  {
   "cell_type": "code",
   "execution_count": null,
   "metadata": {},
   "outputs": [],
   "source": []
  },
  {
   "cell_type": "code",
   "execution_count": null,
   "metadata": {},
   "outputs": [],
   "source": []
  },
  {
   "cell_type": "code",
   "execution_count": null,
   "metadata": {},
   "outputs": [],
   "source": [
    "def sort(eigvaule_vector):\n",
    "    dict = {}\n",
    "    for x in range(len(eigvaule_vector[0])):\n",
    "        dict[eigvaule_vector[0][x]] = eigvaule_vector[1][:, x]\n",
    "    key = list(dict.keys())\n",
    "    key = sorted(key, key=None, reverse=True)\n",
    "    return {i: dict[i] for i in key}"
   ]
  },
  {
   "cell_type": "code",
   "execution_count": null,
   "metadata": {},
   "outputs": [],
   "source": [
    "def find_eigenvalue(matrix):\n",
    "    x = symbols('x')\n",
    "    fun =matrix-x*sympy.eye(len(matrix[0]))\n",
    "    return sympy.solve(sympy.det(fun))\n",
    "\n",
    "def find_eigenvector(matrix):\n",
    "  arr = []\n",
    "  w,v = np.linalg.eigh(matrix)\n",
    "  # print(w,v)\n",
    "  return w,v"
   ]
  },
  {
   "cell_type": "code",
   "execution_count": null,
   "metadata": {},
   "outputs": [],
   "source": [
    "def show_image(result,k):\n",
    "  drive.mount('/content/drive')\n",
    "  %cd /content/drive/MyDrive/Colab_Notebooks/SVD/result\n",
    "  img_array = np.array(result, dtype=np.uint8)\n",
    "  img = Image.fromarray(img_array)\n",
    "  print(img_array.shape)\n",
    "  if picture_name in os.listdir():\n",
    "    img = cv2.imread(picture_name)\n",
    "\n",
    "  new_location = \"/content/drive/MyDrive/Colab_Notebooks/SVD/result\"\n",
    "  new_filename = f\"aFinal_{k}.jpg\"\n",
    "\n",
    "  # Create the new folder if it doesn't exist\n",
    "  if not os.path.exists(new_location):\n",
    "    os.makedirs(new_location)\n",
    "\n",
    "  # Save the image to the new location\n",
    "  cv2.imwrite(os.path.join(new_location, new_filename), img_array)"
   ]
  },
  {
   "cell_type": "code",
   "execution_count": null,
   "metadata": {},
   "outputs": [],
   "source": [
    "class math:\n",
    "    def __init__(self):\n",
    "        self.matrix = convert_image_to_matrix()\n",
    "        # self.matrix = np.array([[1,0,1],[0,1,1]])\n",
    "        self.shape = np.shape(self.matrix)\n",
    "        self.k = 40\n",
    "        result = self.SVD()\n",
    "        show_image(result*255,self.k)\n",
    "\n",
    "\n",
    "    def SVD(self):\n",
    "      c,r = self.shape\n",
    "      A = self.matrix\n",
    "      V = []\n",
    "      U = []\n",
    "      print(np.shape(self.matrix))\n",
    "      AtA = np.matmul(np.transpose(self.matrix),self.matrix)\n",
    "\n",
    "      b = find_eigenvector(np.array(AtA,dtype= float))\n",
    "\n",
    "      \"\"\"turn into dict then soft in descending\"\"\"\n",
    "      Newdict = sort(b)\n",
    "\n",
    "      \"\"\"now find UDV.T\"\"\"\n",
    "      D = np.zeros(self.shape,dtype = 'complex_')\n",
    "      r,c = self.shape\n",
    "      for x in range(min(r,c)):\n",
    "          D[x][x] = np.sqrt(np.abs(list(Newdict.keys())[x]))\n",
    "      d = D[0:self.k,0:self.k]\n",
    "\n",
    "\n",
    "      for x in Newdict.values():\n",
    "          V.append(list(x))\n",
    "      V = Matrix(V).T\n",
    "      v = V[:,0:self.k]\n",
    "\n",
    "      for i in range(min(self.k,r)):\n",
    "        U.append((np.matmul(A,V[:,i])/D[i][i]).T[0])\n",
    "      U = Matrix(U).T\n",
    "      u = U[:, 0:self.k]\n",
    "\n",
    "      # for full information preserve, find A instead\n",
    "      # A = U*D*(V.T)\n",
    "\n",
    "      # print('D = ',Matrix(d))\n",
    "      # print('V =',V)\n",
    "      # print('U = ',U)\n",
    "      # # print('A =', A)\n",
    "      # return A\n",
    "\n",
    "      a = u * d * (v.T)\n",
    "\n",
    "      print('D = ',Matrix(d))\n",
    "      print('V =',v)\n",
    "      print('U = ',u)\n",
    "      print('A =', a) #overflow google presentaion anyway\n",
    "\n",
    "      return a\n",
    "\n",
    "\n",
    "if __name__ == '__main__':\n",
    "    math()"
   ]
  }
 ],
 "metadata": {
  "kernelspec": {
   "display_name": "Python_Environment",
   "language": "python",
   "name": "python3"
  },
  "language_info": {
   "codemirror_mode": {
    "name": "ipython",
    "version": 3
   },
   "file_extension": ".py",
   "mimetype": "text/x-python",
   "name": "python",
   "nbconvert_exporter": "python",
   "pygments_lexer": "ipython3",
   "version": "3.10.14"
  }
 },
 "nbformat": 4,
 "nbformat_minor": 2
}
