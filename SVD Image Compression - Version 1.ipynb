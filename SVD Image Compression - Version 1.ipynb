{
 "cells": [
  {
   "cell_type": "code",
   "execution_count": 169,
   "metadata": {},
   "outputs": [],
   "source": [
    "import os, glob\n",
    "import cv2\n",
    "import numpy as np\n",
    "import sympy\n",
    "import matplotlib.pyplot as plt\n",
    "from sympy import symbols"
   ]
  },
  {
   "cell_type": "code",
   "execution_count": 170,
   "metadata": {},
   "outputs": [],
   "source": [
    "Root = os.getcwd()\n",
    "os.makedirs('Images_Folder', exist_ok=True)\n",
    "os.makedirs('Result_Folder', exist_ok=True)"
   ]
  },
  {
   "cell_type": "code",
   "execution_count": 171,
   "metadata": {},
   "outputs": [],
   "source": [
    "def Convert_to_PNG():\n",
    "    os.chdir(os.path.join(Root,'Images_Folder'))\n",
    "    image_patterns = [\"*.jpeg\", \"*.jpg\"]\n",
    "    for pattern in image_patterns:\n",
    "        for image_file in glob.glob(pattern):\n",
    "            if not image_file.endswith(\".png\"):\n",
    "                new_file = os.path.splitext(image_file)[0] + \".png\"\n",
    "                os.rename(image_file, new_file)\n",
    "    os.chdir(Root)"
   ]
  },
  {
   "cell_type": "code",
   "execution_count": 172,
   "metadata": {},
   "outputs": [],
   "source": [
    "def Image_Show(Image):\n",
    "    plt.imshow(Image, cmap='gray')\n",
    "    plt.axis('off')\n",
    "    plt.show() "
   ]
  },
  {
   "cell_type": "code",
   "execution_count": 173,
   "metadata": {},
   "outputs": [],
   "source": [
    "def Convert_Image_To_Matrix(Image_Name):\n",
    "    if Image_Name in os.listdir('Images_Folder'):\n",
    "        Image = cv2.imread(os.path.join('Images_Folder', Image_Name))\n",
    "        Gray_Image = cv2.cvtColor(Image, cv2.COLOR_BGR2GRAY)\n",
    "        Data = np.array(Gray_Image)/255 # Chuẩn hóa dữ liệu\n",
    "        return Data\n",
    "    else: print(\"Picture not found!!!!\")\n",
    "    \n",
    "Matrix_3x3 = Convert_Image_To_Matrix('Cute Cat.png')[0:3, 0:3]"
   ]
  },
  {
   "cell_type": "code",
   "execution_count": 174,
   "metadata": {},
   "outputs": [],
   "source": [
    "def Create_Zero_Matrix(Values):\n",
    "    Zero_Matrix = np.zeros((Values.shape[0], Values.shape[1]))\n",
    "    return Zero_Matrix\n",
    "\n",
    "def Create_Identity_Matrix(Matrix):\n",
    "    Identity_Matrix = Create_Zero_Matrix(Matrix)\n",
    "    for Row_Column in range(Identity_Matrix.shape[1]):\n",
    "        Identity_Matrix[Row_Column,Row_Column] = 1\n",
    "    return Identity_Matrix"
   ]
  },
  {
   "cell_type": "code",
   "execution_count": 175,
   "metadata": {},
   "outputs": [],
   "source": [
    "def Calculate_Determinant(Matrix):\n",
    "    if len(Matrix) == 1:\n",
    "        return Matrix[0][0]\n",
    "\n",
    "    if len(Matrix) == 2:\n",
    "        return Matrix[0][0] * Matrix[1][1] - Matrix[0][1] * Matrix[1][0]\n",
    "\n",
    "    Det = 0\n",
    "    for col in range(len(Matrix)):\n",
    "        Sub_Matrix = []\n",
    "        for i in range(1, len(Matrix)):  # Bỏ qua hàng đầu tiên\n",
    "            new_row = []\n",
    "            for j in range(len(Matrix)):\n",
    "                if j != col:  # Bỏ qua cột đang xét\n",
    "                    new_row.append(Matrix[i][j])\n",
    "            Sub_Matrix.append(new_row)\n",
    "        \n",
    "        Cofactor = (-1) ** col * Matrix[0][col] * Calculate_Determinant(Sub_Matrix) # Tính toán đệ quy định thức của ma trận con\n",
    "        \n",
    "        Det += Cofactor\n",
    "\n",
    "    return Det"
   ]
  },
  {
   "cell_type": "code",
   "execution_count": 176,
   "metadata": {},
   "outputs": [
    {
     "data": {
      "text/plain": [
       "[0.450216373758432,\n",
       " -0.00550034374196104 - 0.0040780371678986*I,\n",
       " -0.00550034374196104 + 0.0040780371678986*I]"
      ]
     },
     "execution_count": 176,
     "metadata": {},
     "output_type": "execute_result"
    }
   ],
   "source": [
    "def Find_Eigenvalue(Matrix):\n",
    "    Identity_Matrix = Create_Identity_Matrix(Matrix)\n",
    "    x = symbols('x') # Tạo ra biến tên là x thay cho λ để tính:  p(λ) = det(A - λI)\n",
    "    Characteristic_Matrix = Matrix - x * Identity_Matrix # p(λ) = det(A - λI)\n",
    "    Characteristic_Polynomial = Calculate_Determinant(Characteristic_Matrix)\n",
    "    Eigenvalues = sympy.solve(sympy.simplify(Characteristic_Polynomial), symbols('x')) # Tính Eigenvalues từ đa thức đặc trưng\n",
    "    return Eigenvalues\n",
    "    \n",
    "\n",
    "Matrix = np.array([[2,1,3],\n",
    "                  [1,2,3],\n",
    "                  [3,3,20]])\n",
    "\n",
    "Find_Eigenvalue(Matrix_3x3)"
   ]
  },
  {
   "cell_type": "code",
   "execution_count": 82,
   "metadata": {},
   "outputs": [],
   "source": [
    "# def Find_Eigenvector(Matrix):"
   ]
  }
 ],
 "metadata": {
  "kernelspec": {
   "display_name": "python3",
   "language": "python",
   "name": "python3"
  },
  "language_info": {
   "codemirror_mode": {
    "name": "ipython",
    "version": 3
   },
   "file_extension": ".py",
   "mimetype": "text/x-python",
   "name": "python",
   "nbconvert_exporter": "python",
   "pygments_lexer": "ipython3",
   "version": "3.10.14"
  }
 },
 "nbformat": 4,
 "nbformat_minor": 2
}
