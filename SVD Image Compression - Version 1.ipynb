{
 "cells": [
  {
   "cell_type": "code",
   "execution_count": 1,
   "metadata": {},
   "outputs": [],
   "source": [
    "import os, glob\n",
    "import cv2\n",
    "import numpy as np\n",
    "import matplotlib.pyplot as plt\n",
    "from sympy import symbols"
   ]
  },
  {
   "cell_type": "code",
   "execution_count": 2,
   "metadata": {},
   "outputs": [],
   "source": [
    "Root = os.getcwd()\n",
    "os.makedirs('Images_Folder', exist_ok=True)\n",
    "os.makedirs('Result_Folder', exist_ok=True)"
   ]
  },
  {
   "cell_type": "code",
   "execution_count": 3,
   "metadata": {},
   "outputs": [],
   "source": [
    "def Convert_to_PNG():\n",
    "    os.chdir(os.path.join(Root,'Images_Folder'))\n",
    "    image_patterns = [\"*.jpeg\", \"*.jpg\"]\n",
    "    for pattern in image_patterns:\n",
    "        for image_file in glob.glob(pattern):\n",
    "            if not image_file.endswith(\".png\"):\n",
    "                new_file = os.path.splitext(image_file)[0] + \".png\"\n",
    "                os.rename(image_file, new_file)\n",
    "    os.chdir(Root)"
   ]
  },
  {
   "cell_type": "code",
   "execution_count": 4,
   "metadata": {},
   "outputs": [],
   "source": [
    "def Image_Show(Image):\n",
    "    plt.imshow(Image, cmap='gray')\n",
    "    plt.axis('off')\n",
    "    plt.show() "
   ]
  },
  {
   "cell_type": "code",
   "execution_count": 5,
   "metadata": {},
   "outputs": [],
   "source": [
    "def Convert_Image_To_Matrix(Image_Name):\n",
    "    if Image_Name in os.listdir('Images_Folder'):\n",
    "        Image = cv2.imread(os.path.join('Images_Folder', Image_Name))\n",
    "        Gray_Image = cv2.cvtColor(Image, cv2.COLOR_BGR2GRAY)\n",
    "        Data = np.array(Gray_Image)/255 # Chuẩn hóa dữ liệu\n",
    "        return Data\n",
    "    else: print(\"Picture not found!!!!\")\n",
    "    \n",
    "Matrix_3x3 = Convert_Image_To_Matrix('Cute Cat.png')[0:3, 0:3]"
   ]
  },
  {
   "cell_type": "code",
   "execution_count": 6,
   "metadata": {},
   "outputs": [],
   "source": [
    "def Create_Zero_Matrix(Values):\n",
    "    Zero_Matrix = np.zeros((Values.shape[0], Values.shape[1]))\n",
    "    return Zero_Matrix\n",
    "\n",
    "def Create_Identity_Matrix(Matrix):\n",
    "    Identity_Matrix = Create_Zero_Matrix(Matrix)\n",
    "    for Row_Column in range(Identity_Matrix.shape[1]):\n",
    "        Identity_Matrix[Row_Column,Row_Column] = 1\n",
    "    return Identity_Matrix"
   ]
  },
  {
   "cell_type": "code",
   "execution_count": 7,
   "metadata": {},
   "outputs": [],
   "source": [
    "def Determinant(Matrix):\n",
    "    if len(Matrix) == 1:\n",
    "        return Matrix[0][0]\n",
    "\n",
    "    if len(Matrix) == 2:\n",
    "        return Matrix[0][0] * Matrix[1][1] - Matrix[0][1] * Matrix[1][0]\n",
    "\n",
    "    Det = 0\n",
    "    for col in range(len(Matrix)):\n",
    "        Sub_Matrix = []\n",
    "        for i in range(1, len(Matrix)):  # Bỏ qua hàng đầu tiên\n",
    "            new_row = []\n",
    "            for j in range(len(Matrix)):\n",
    "                if j != col:  # Bỏ qua cột đang xét\n",
    "                    new_row.append(Matrix[i][j])\n",
    "            Sub_Matrix.append(new_row)\n",
    "            \n",
    "        # Sub_Matrix = [row[:col] + row[col+1:] for row in Matrix[1:]]\n",
    "        \n",
    "        Cofactor = (-1) ** col * Matrix[0][col] * Determinant(Sub_Matrix) # Tính toán đệ quy định thức của ma trận con\n",
    "        \n",
    "        Det += Cofactor\n",
    "\n",
    "    return Det"
   ]
  },
  {
   "cell_type": "code",
   "execution_count": 8,
   "metadata": {},
   "outputs": [
    {
     "data": {
      "text/latex": [
       "$\\displaystyle 0.0254978854286813 x + \\left(0.0666666666666667 - 1.0 x\\right) \\left(\\left(0.137254901960784 - 1.0 x\\right) \\left(0.235294117647059 - 1.0 x\\right) - 0.0365397923875432\\right) + 0.000304076109490316$"
      ],
      "text/plain": [
       "0.0254978854286813*x + (0.0666666666666667 - 1.0*x)*((0.137254901960784 - 1.0*x)*(0.235294117647059 - 1.0*x) - 0.0365397923875432) + 0.000304076109490316"
      ]
     },
     "execution_count": 8,
     "metadata": {},
     "output_type": "execute_result"
    }
   ],
   "source": [
    "def Find_Eigenvalue(Matrix):\n",
    "    Identity_Matrix = Create_Identity_Matrix(Matrix)\n",
    "    x = symbols('x') # Tạo ra biến tên là x thay cho λ để tính:  p(λ) = det(A - λI)\n",
    "    Characteristic_Polynomial = Matrix - x * Identity_Matrix\n",
    "    \n",
    "    return Determinant(Characteristic_Polynomial)\n",
    "\n",
    "Find_Eigenvalue(Matrix_3x3)"
   ]
  }
 ],
 "metadata": {
  "kernelspec": {
   "display_name": "python3",
   "language": "python",
   "name": "python3"
  },
  "language_info": {
   "codemirror_mode": {
    "name": "ipython",
    "version": 3
   },
   "file_extension": ".py",
   "mimetype": "text/x-python",
   "name": "python",
   "nbconvert_exporter": "python",
   "pygments_lexer": "ipython3",
   "version": "3.10.14"
  }
 },
 "nbformat": 4,
 "nbformat_minor": 2
}
